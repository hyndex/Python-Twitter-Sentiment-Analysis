{
 "cells": [
  {
   "cell_type": "raw",
   "metadata": {},
   "source": [
    "Requirment\n",
    "0.tweepy\n",
    "1.TextBlob for data(python -m textblob.download_corpora)\n",
    "2.Twitter API \n",
    "3.numpy"
   ]
  },
  {
   "cell_type": "markdown",
   "metadata": {},
   "source": [
    "# Basic "
   ]
  },
  {
   "cell_type": "code",
   "execution_count": 1,
   "metadata": {},
   "outputs": [],
   "source": [
    "from textblob import TextBlob"
   ]
  },
  {
   "cell_type": "code",
   "execution_count": 2,
   "metadata": {},
   "outputs": [],
   "source": [
    "random_text=TextBlob(\"jyotisman is very very angry that, he gets a new girlfriend every week...\")"
   ]
  },
  {
   "cell_type": "markdown",
   "metadata": {},
   "source": [
    "# lexicon"
   ]
  },
  {
   "cell_type": "code",
   "execution_count": 3,
   "metadata": {},
   "outputs": [
    {
     "data": {
      "text/plain": [
       "[('jyotisman', 'NN'),\n",
       " ('is', 'VBZ'),\n",
       " ('very', 'RB'),\n",
       " ('very', 'RB'),\n",
       " ('angry', 'JJ'),\n",
       " ('that', 'IN'),\n",
       " ('he', 'PRP'),\n",
       " ('gets', 'VBZ'),\n",
       " ('a', 'DT'),\n",
       " ('new', 'JJ'),\n",
       " ('girlfriend', 'NN'),\n",
       " ('every', 'DT'),\n",
       " ('week', 'NN')]"
      ]
     },
     "execution_count": 3,
     "metadata": {},
     "output_type": "execute_result"
    }
   ],
   "source": [
    "random_text.pos_tags"
   ]
  },
  {
   "cell_type": "markdown",
   "metadata": {},
   "source": [
    "# words"
   ]
  },
  {
   "cell_type": "code",
   "execution_count": 4,
   "metadata": {},
   "outputs": [
    {
     "data": {
      "text/plain": [
       "<textblob.en.sentiments.PatternAnalyzer at 0x1896fcc0208>"
      ]
     },
     "execution_count": 4,
     "metadata": {},
     "output_type": "execute_result"
    }
   ],
   "source": [
    "random_text.words\n",
    "random_text.analyzer"
   ]
  },
  {
   "cell_type": "markdown",
   "metadata": {},
   "source": [
    "# sentiments"
   ]
  },
  {
   "cell_type": "code",
   "execution_count": 5,
   "metadata": {},
   "outputs": [
    {
     "data": {
      "text/plain": [
       "Sentiment(polarity=-0.25681818181818183, subjectivity=0.7272727272727273, assessments=[(['very', 'very', 'angry'], -0.65, 1.0, None), (['new'], 0.13636363636363635, 0.45454545454545453, None)])"
      ]
     },
     "execution_count": 5,
     "metadata": {},
     "output_type": "execute_result"
    }
   ],
   "source": [
    "random_text.sentiment_assessments"
   ]
  },
  {
   "cell_type": "markdown",
   "metadata": {},
   "source": [
    "# Result"
   ]
  },
  {
   "cell_type": "code",
   "execution_count": 6,
   "metadata": {},
   "outputs": [
    {
     "data": {
      "text/plain": [
       "-0.25681818181818183"
      ]
     },
     "execution_count": 6,
     "metadata": {},
     "output_type": "execute_result"
    }
   ],
   "source": [
    "random_text.sentiment.polarity"
   ]
  },
  {
   "cell_type": "markdown",
   "metadata": {},
   "source": [
    "# Train Test"
   ]
  },
  {
   "cell_type": "code",
   "execution_count": 7,
   "metadata": {},
   "outputs": [],
   "source": [
    "train = [('I love this sandwich.', 'pos'),\n",
    "         ('this is an amazing place!', 'pos'),\n",
    "         ('I feel very good about these beers.', 'pos'),\n",
    "         ('this is my best work.', 'pos'),\n",
    "         (\"what an awesome view\", 'pos'),\n",
    "         ('I do not like this restaurant', 'neg'),\n",
    "         ('I am tired of this stuff.', 'neg'),\n",
    "         (\"I can't deal with this\", 'neg'),\n",
    "         ('he is my sworn enemy!', 'neg'),\n",
    "         ('my boss is horrible.', 'neg')\n",
    "    ]\n",
    "test = [('the beer was good.', 'pos'),\n",
    "         ('I do not enjoy my job', 'neg'),\n",
    "         (\"I ain't feeling dandy today.\", 'neg'),\n",
    "         (\"I feel amazing!\", 'pos'),\n",
    "         ('Gary is a friend of mine.', 'pos'),\n",
    "         (\"I can't believe I'm doing this.\", 'neg')\n",
    "    ]"
   ]
  },
  {
   "cell_type": "code",
   "execution_count": 8,
   "metadata": {},
   "outputs": [
    {
     "data": {
      "text/plain": [
       "'pos'"
      ]
     },
     "execution_count": 8,
     "metadata": {},
     "output_type": "execute_result"
    }
   ],
   "source": [
    "from textblob.classifiers import NaiveBayesClassifier\n",
    "cl = NaiveBayesClassifier(train)\n",
    "cl.classify('not good Apple')"
   ]
  },
  {
   "cell_type": "markdown",
   "metadata": {},
   "source": [
    "# Getting Data From Twitter"
   ]
  },
  {
   "cell_type": "code",
   "execution_count": 9,
   "metadata": {},
   "outputs": [],
   "source": [
    "consumer_key=\"puCSNQ2xsHKNa9ay8O6hEmX3t\"\n",
    "consumer_secret=\"Fz3WLQEXriE6ijPyOZ1JQE0S9oqrQ11d3m3t3sSoy9N3Zrl72f\"\n",
    "access_token=\"1073350850-bW6MpAv6RtzGPAVLGXmESGlvJTuCoIvYrJpb1Mg\"\n",
    "access_token_secret=\"onT28eQAcTEFprzQ60JGFovEkWl0RL3PtoLofZzx7j90t\""
   ]
  },
  {
   "cell_type": "code",
   "execution_count": 10,
   "metadata": {},
   "outputs": [],
   "source": [
    "import tweepy\n",
    "import numpy as np\n",
    "import pandas as pd"
   ]
  },
  {
   "cell_type": "code",
   "execution_count": 11,
   "metadata": {},
   "outputs": [],
   "source": [
    "auth=tweepy.OAuthHandler(consumer_key,consumer_secret)\n",
    "auth.set_access_token(access_token,access_token_secret)"
   ]
  },
  {
   "cell_type": "code",
   "execution_count": 12,
   "metadata": {},
   "outputs": [],
   "source": [
    "twitter=tweepy.API(auth)"
   ]
  },
  {
   "cell_type": "code",
   "execution_count": 23,
   "metadata": {},
   "outputs": [],
   "source": [
    "def getSentiment(tag):\n",
    "    tweets = twitter.search(tag)\n",
    "    analysis=[]\n",
    "    text=[]\n",
    "    followers=[]\n",
    "    location=[]\n",
    "    name=[]\n",
    "    photo=[]\n",
    "    for tweet in tweets:\n",
    "        analysis.append(TextBlob(tweet.text).sentiment.polarity)\n",
    "        text.append(tweet.text)\n",
    "        followers.append(tweet.author.followers_count)\n",
    "        location.append(tweet.author.location)\n",
    "        name.append(tweet.author.screen_name)\n",
    "        photo.append(tweet.author.profile_image_url)\n",
    "        #tweet.author.verified\n",
    "    np.average(analysis)\n",
    "    data=pd.DataFrame([analysis,text,followers,location,name,photo])\n",
    "    data=data.transpose()\n",
    "    data=data.rename(columns={0: 'sentiment', 1: 'tweet',3:'location',4:'username',5:'photo'})\n",
    "    return [data,np.average(analysis)]"
   ]
  },
  {
   "cell_type": "code",
   "execution_count": 24,
   "metadata": {},
   "outputs": [
    {
     "name": "stdout",
     "output_type": "stream",
     "text": [
      "cybertruck\n",
      "0.023636363636363632\n"
     ]
    },
    {
     "data": {
      "text/html": [
       "<div>\n",
       "<style scoped>\n",
       "    .dataframe tbody tr th:only-of-type {\n",
       "        vertical-align: middle;\n",
       "    }\n",
       "\n",
       "    .dataframe tbody tr th {\n",
       "        vertical-align: top;\n",
       "    }\n",
       "\n",
       "    .dataframe thead th {\n",
       "        text-align: right;\n",
       "    }\n",
       "</style>\n",
       "<table border=\"1\" class=\"dataframe\">\n",
       "  <thead>\n",
       "    <tr style=\"text-align: right;\">\n",
       "      <th></th>\n",
       "      <th>sentiment</th>\n",
       "      <th>tweet</th>\n",
       "      <th>2</th>\n",
       "      <th>location</th>\n",
       "      <th>username</th>\n",
       "      <th>photo</th>\n",
       "    </tr>\n",
       "  </thead>\n",
       "  <tbody>\n",
       "    <tr>\n",
       "      <th>0</th>\n",
       "      <td>0</td>\n",
       "      <td>RT @elonmusk: Cybertruck pulls F-150 uphill ht...</td>\n",
       "      <td>48</td>\n",
       "      <td>Adelaide</td>\n",
       "      <td>TheTonyHansen</td>\n",
       "      <td>http://pbs.twimg.com/profile_images/3614672075...</td>\n",
       "    </tr>\n",
       "    <tr>\n",
       "      <th>1</th>\n",
       "      <td>0.15</td>\n",
       "      <td>Elon Musk's Net Worth Falls $768 Million After...</td>\n",
       "      <td>5082528</td>\n",
       "      <td>Los Angeles, CA</td>\n",
       "      <td>TMZ</td>\n",
       "      <td>http://pbs.twimg.com/profile_images/9486987152...</td>\n",
       "    </tr>\n",
       "    <tr>\n",
       "      <th>2</th>\n",
       "      <td>0</td>\n",
       "      <td>RT @elonmusk: Reason Cybertruck is so planar i...</td>\n",
       "      <td>53</td>\n",
       "      <td>Berlin, Germany</td>\n",
       "      <td>NPtrckTrstn</td>\n",
       "      <td>http://pbs.twimg.com/profile_images/1190301889...</td>\n",
       "    </tr>\n",
       "    <tr>\n",
       "      <th>3</th>\n",
       "      <td>0</td>\n",
       "      <td>RT @elonmusk: Cybertruck pulls F-150 uphill ht...</td>\n",
       "      <td>146</td>\n",
       "      <td>대한민국 목포시</td>\n",
       "      <td>nazz_twt</td>\n",
       "      <td>http://pbs.twimg.com/profile_images/1196374122...</td>\n",
       "    </tr>\n",
       "    <tr>\n",
       "      <th>4</th>\n",
       "      <td>0</td>\n",
       "      <td>RT @elonmusk: Cybertruck pulls F-150 uphill ht...</td>\n",
       "      <td>993</td>\n",
       "      <td>São Paulo, Brasil</td>\n",
       "      <td>thamisoaress</td>\n",
       "      <td>http://pbs.twimg.com/profile_images/1177446309...</td>\n",
       "    </tr>\n",
       "    <tr>\n",
       "      <th>5</th>\n",
       "      <td>0</td>\n",
       "      <td>RT @elonmusk: Cybertruck pulls F-150 uphill ht...</td>\n",
       "      <td>343</td>\n",
       "      <td>Earth bound</td>\n",
       "      <td>doyinadeniyi2</td>\n",
       "      <td>http://pbs.twimg.com/profile_images/1002335724...</td>\n",
       "    </tr>\n",
       "    <tr>\n",
       "      <th>6</th>\n",
       "      <td>0</td>\n",
       "      <td>RT @elonmusk: Cybertruck pulls F-150 uphill ht...</td>\n",
       "      <td>100</td>\n",
       "      <td>London, England</td>\n",
       "      <td>wik_secher</td>\n",
       "      <td>http://pbs.twimg.com/profile_images/1161741909...</td>\n",
       "    </tr>\n",
       "    <tr>\n",
       "      <th>7</th>\n",
       "      <td>0</td>\n",
       "      <td>RT @elonmusk: Cybertruck pulls F-150 uphill ht...</td>\n",
       "      <td>30</td>\n",
       "      <td>Санкт-Петербург, Россия</td>\n",
       "      <td>tropicallzzdope</td>\n",
       "      <td>http://pbs.twimg.com/profile_images/1171916774...</td>\n",
       "    </tr>\n",
       "    <tr>\n",
       "      <th>8</th>\n",
       "      <td>0</td>\n",
       "      <td>Elon Musk explains why Tesla’s Cybertruck wind...</td>\n",
       "      <td>1738</td>\n",
       "      <td>WorldWide</td>\n",
       "      <td>techpip</td>\n",
       "      <td>http://pbs.twimg.com/profile_images/1161465294...</td>\n",
       "    </tr>\n",
       "    <tr>\n",
       "      <th>9</th>\n",
       "      <td>0.0681818</td>\n",
       "      <td>.\\nDAILY NEWS\\n\\nTESLA ➤ New Cybertruck reveal...</td>\n",
       "      <td>2876</td>\n",
       "      <td>Coastal Hampshire, England.</td>\n",
       "      <td>WaynesWorldAuto</td>\n",
       "      <td>http://pbs.twimg.com/profile_images/1186577147...</td>\n",
       "    </tr>\n",
       "    <tr>\n",
       "      <th>10</th>\n",
       "      <td>0.136364</td>\n",
       "      <td>Have you seen the new Tesla Cybertruck? \\n\\nWa...</td>\n",
       "      <td>53</td>\n",
       "      <td>United Kingdom</td>\n",
       "      <td>FlexiOrb</td>\n",
       "      <td>http://pbs.twimg.com/profile_images/1097779414...</td>\n",
       "    </tr>\n",
       "    <tr>\n",
       "      <th>11</th>\n",
       "      <td>0</td>\n",
       "      <td>RT @elonmusk: Cybertruck pulls F-150 uphill ht...</td>\n",
       "      <td>144</td>\n",
       "      <td>+62</td>\n",
       "      <td>botjahalit</td>\n",
       "      <td>http://pbs.twimg.com/profile_images/1057183674...</td>\n",
       "    </tr>\n",
       "    <tr>\n",
       "      <th>12</th>\n",
       "      <td>0</td>\n",
       "      <td>RT @VICE_ID: Kami menduga, mobil secanggih cyb...</td>\n",
       "      <td>68</td>\n",
       "      <td>Mars</td>\n",
       "      <td>lxxddxxk</td>\n",
       "      <td>http://pbs.twimg.com/profile_images/1191750425...</td>\n",
       "    </tr>\n",
       "    <tr>\n",
       "      <th>13</th>\n",
       "      <td>0</td>\n",
       "      <td>RT @elonmusk: Cybertruck pulls F-150 uphill ht...</td>\n",
       "      <td>263</td>\n",
       "      <td>Brentwood, CA</td>\n",
       "      <td>cj_nickolas</td>\n",
       "      <td>http://pbs.twimg.com/profile_images/1151023566...</td>\n",
       "    </tr>\n",
       "    <tr>\n",
       "      <th>14</th>\n",
       "      <td>0</td>\n",
       "      <td>RT @elonmusk: Cybertruck pulls F-150 uphill ht...</td>\n",
       "      <td>308</td>\n",
       "      <td>FL, USA</td>\n",
       "      <td>PointsTrident</td>\n",
       "      <td>http://pbs.twimg.com/profile_images/1170889413...</td>\n",
       "    </tr>\n",
       "  </tbody>\n",
       "</table>\n",
       "</div>"
      ],
      "text/plain": [
       "    sentiment                                              tweet        2  \\\n",
       "0           0  RT @elonmusk: Cybertruck pulls F-150 uphill ht...       48   \n",
       "1        0.15  Elon Musk's Net Worth Falls $768 Million After...  5082528   \n",
       "2           0  RT @elonmusk: Reason Cybertruck is so planar i...       53   \n",
       "3           0  RT @elonmusk: Cybertruck pulls F-150 uphill ht...      146   \n",
       "4           0  RT @elonmusk: Cybertruck pulls F-150 uphill ht...      993   \n",
       "5           0  RT @elonmusk: Cybertruck pulls F-150 uphill ht...      343   \n",
       "6           0  RT @elonmusk: Cybertruck pulls F-150 uphill ht...      100   \n",
       "7           0  RT @elonmusk: Cybertruck pulls F-150 uphill ht...       30   \n",
       "8           0  Elon Musk explains why Tesla’s Cybertruck wind...     1738   \n",
       "9   0.0681818  .\\nDAILY NEWS\\n\\nTESLA ➤ New Cybertruck reveal...     2876   \n",
       "10   0.136364  Have you seen the new Tesla Cybertruck? \\n\\nWa...       53   \n",
       "11          0  RT @elonmusk: Cybertruck pulls F-150 uphill ht...      144   \n",
       "12          0  RT @VICE_ID: Kami menduga, mobil secanggih cyb...       68   \n",
       "13          0  RT @elonmusk: Cybertruck pulls F-150 uphill ht...      263   \n",
       "14          0  RT @elonmusk: Cybertruck pulls F-150 uphill ht...      308   \n",
       "\n",
       "                       location         username  \\\n",
       "0                      Adelaide    TheTonyHansen   \n",
       "1               Los Angeles, CA              TMZ   \n",
       "2               Berlin, Germany      NPtrckTrstn   \n",
       "3                      대한민국 목포시         nazz_twt   \n",
       "4             São Paulo, Brasil     thamisoaress   \n",
       "5                  Earth bound     doyinadeniyi2   \n",
       "6               London, England       wik_secher   \n",
       "7       Санкт-Петербург, Россия  tropicallzzdope   \n",
       "8                     WorldWide          techpip   \n",
       "9   Coastal Hampshire, England.  WaynesWorldAuto   \n",
       "10               United Kingdom         FlexiOrb   \n",
       "11                          +62       botjahalit   \n",
       "12                         Mars         lxxddxxk   \n",
       "13                Brentwood, CA      cj_nickolas   \n",
       "14                      FL, USA    PointsTrident   \n",
       "\n",
       "                                                photo  \n",
       "0   http://pbs.twimg.com/profile_images/3614672075...  \n",
       "1   http://pbs.twimg.com/profile_images/9486987152...  \n",
       "2   http://pbs.twimg.com/profile_images/1190301889...  \n",
       "3   http://pbs.twimg.com/profile_images/1196374122...  \n",
       "4   http://pbs.twimg.com/profile_images/1177446309...  \n",
       "5   http://pbs.twimg.com/profile_images/1002335724...  \n",
       "6   http://pbs.twimg.com/profile_images/1161741909...  \n",
       "7   http://pbs.twimg.com/profile_images/1171916774...  \n",
       "8   http://pbs.twimg.com/profile_images/1161465294...  \n",
       "9   http://pbs.twimg.com/profile_images/1186577147...  \n",
       "10  http://pbs.twimg.com/profile_images/1097779414...  \n",
       "11  http://pbs.twimg.com/profile_images/1057183674...  \n",
       "12  http://pbs.twimg.com/profile_images/1191750425...  \n",
       "13  http://pbs.twimg.com/profile_images/1151023566...  \n",
       "14  http://pbs.twimg.com/profile_images/1170889413...  "
      ]
     },
     "execution_count": 24,
     "metadata": {},
     "output_type": "execute_result"
    }
   ],
   "source": [
    "tag=''\n",
    "tag=input()\n",
    "data, analysis = getSentiment(tag)\n",
    "print(analysis)\n",
    "data\n"
   ]
  },
  {
   "cell_type": "code",
   "execution_count": 47,
   "metadata": {},
   "outputs": [],
   "source": [
    "def compareSentiment(tag1,tag2):\n",
    "    tweets = twitter.search(tag1)\n",
    "    analysis1=[]\n",
    "    for tweet in tweets:\n",
    "        analysis1.append(TextBlob(tweet.text).sentiment.polarity)\n",
    "    tweets = twitter.search(tag2)\n",
    "    analysis2=[]\n",
    "    for tweet in tweets:\n",
    "        analysis2.append(TextBlob(tweet.text).sentiment.polarity)\n",
    "    if np.average(analysis1)>np.average(analysis2):\n",
    "        return tag1\n",
    "    return tag2"
   ]
  },
  {
   "cell_type": "code",
   "execution_count": 48,
   "metadata": {},
   "outputs": [
    {
     "name": "stdout",
     "output_type": "stream",
     "text": [
      "Please input First Tag Yesbank\n",
      "Please input Second Tag HDFC\n",
      "Yesbank\n"
     ]
    }
   ],
   "source": [
    "# tag1=''\n",
    "# tag2=''\n",
    "\n",
    "# tag1=input('Please input First Tag ')\n",
    "# tag2=input('Please input Second Tag ')\n",
    "\n",
    "# print(compareSentiment(tag1,tag2))"
   ]
  },
  {
   "cell_type": "code",
   "execution_count": 27,
   "metadata": {},
   "outputs": [],
   "source": [
    "from flask import Flask\n",
    "\n",
    "app = Flask(__name__)\n",
    "\n",
    "@app.route(\"/\")\n",
    "def hello():\n",
    "    tag = request.args.get('tag')\n",
    "    data, analysis = getSentiment(tag)\n",
    "    return data.to_json()"
   ]
  },
  {
   "cell_type": "markdown",
   "metadata": {},
   "source": [
    "$ env FLASK_APP=hello.py flask run\n",
    " * Serving Flask app \"hello\"\n",
    " * Running on http://127.0.0.1:5000/ (Press CTRL+C to quit)"
   ]
  },
  {
   "cell_type": "code",
   "execution_count": 28,
   "metadata": {
    "collapsed": true
   },
   "outputs": [
    {
     "data": {
      "text/plain": [
       "'{\"sentiment\":{\"0\":0.0,\"1\":0.15,\"2\":0.0,\"3\":0.0,\"4\":0.0,\"5\":0.0,\"6\":0.0,\"7\":0.0,\"8\":0.0,\"9\":0.0681818182,\"10\":0.1363636364,\"11\":0.0,\"12\":0.0,\"13\":0.0,\"14\":0.0},\"tweet\":{\"0\":\"RT @elonmusk: Cybertruck pulls F-150 uphill https:\\\\/\\\\/t.co\\\\/OfaqUkrDI3\",\"1\":\"Elon Musk\\'s Net Worth Falls $768 Million After Tesla Cybertruck Fiasco https:\\\\/\\\\/t.co\\\\/6sMKh6p2CR\",\"2\":\"RT @elonmusk: Reason Cybertruck is so planar is that you can\\\\u2019t stamp ultra-hard 30X steel, because it breaks the stamping press\",\"3\":\"RT @elonmusk: Cybertruck pulls F-150 uphill https:\\\\/\\\\/t.co\\\\/OfaqUkrDI3\",\"4\":\"RT @elonmusk: Cybertruck pulls F-150 uphill https:\\\\/\\\\/t.co\\\\/OfaqUkrDI3\",\"5\":\"RT @elonmusk: Cybertruck pulls F-150 uphill https:\\\\/\\\\/t.co\\\\/OfaqUkrDI3\",\"6\":\"RT @elonmusk: Cybertruck pulls F-150 uphill https:\\\\/\\\\/t.co\\\\/OfaqUkrDI3\",\"7\":\"RT @elonmusk: Cybertruck pulls F-150 uphill https:\\\\/\\\\/t.co\\\\/OfaqUkrDI3\",\"8\":\"Elon Musk explains why Tesla\\\\u2019s Cybertruck windows smashed during presentation https:\\\\/\\\\/t.co\\\\/E0nk7TtQKA\",\"9\":\".\\\\nDAILY NEWS\\\\n\\\\nTESLA \\\\u27a4 New Cybertruck revealed.\\\\n\\\\nThis is the all-new @Tesla #Cybertruck, an electric pickup that boa\\\\u2026 https:\\\\/\\\\/t.co\\\\/hn5Iuv39KG\",\"10\":\"Have you seen the new Tesla Cybertruck? \\\\n\\\\nWatch this 5-minute video https:\\\\/\\\\/t.co\\\\/pIg6pcVBdF\\\\n\\\\n@Tesla #cybertruck #cybrtrk #ev\",\"11\":\"RT @elonmusk: Cybertruck pulls F-150 uphill https:\\\\/\\\\/t.co\\\\/OfaqUkrDI3\",\"12\":\"RT @VICE_ID: Kami menduga, mobil secanggih cybertruck sekalipun ujung-ujungnya berubah jadi \\\\\"mobil goyang\\\\\" kalau yang pakai miliarder playb\\\\u2026\",\"13\":\"RT @elonmusk: Cybertruck pulls F-150 uphill https:\\\\/\\\\/t.co\\\\/OfaqUkrDI3\",\"14\":\"RT @elonmusk: Cybertruck pulls F-150 uphill https:\\\\/\\\\/t.co\\\\/OfaqUkrDI3\"},\"2\":{\"0\":48,\"1\":5082528,\"2\":53,\"3\":146,\"4\":993,\"5\":343,\"6\":100,\"7\":30,\"8\":1738,\"9\":2876,\"10\":53,\"11\":144,\"12\":68,\"13\":263,\"14\":308},\"location\":{\"0\":\"Adelaide\",\"1\":\"Los Angeles, CA\",\"2\":\"Berlin, Germany\",\"3\":\"\\\\ub300\\\\ud55c\\\\ubbfc\\\\uad6d \\\\ubaa9\\\\ud3ec\\\\uc2dc\",\"4\":\"S\\\\u00e3o Paulo, Brasil\",\"5\":\"Earth bound \",\"6\":\"London, England\",\"7\":\"\\\\u0421\\\\u0430\\\\u043d\\\\u043a\\\\u0442-\\\\u041f\\\\u0435\\\\u0442\\\\u0435\\\\u0440\\\\u0431\\\\u0443\\\\u0440\\\\u0433, \\\\u0420\\\\u043e\\\\u0441\\\\u0441\\\\u0438\\\\u044f\",\"8\":\"WorldWide\",\"9\":\"Coastal Hampshire, England.\",\"10\":\"United Kingdom\",\"11\":\"+62\",\"12\":\"Mars\",\"13\":\"Brentwood, CA\",\"14\":\"FL, USA\"},\"username\":{\"0\":\"TheTonyHansen\",\"1\":\"TMZ\",\"2\":\"NPtrckTrstn\",\"3\":\"nazz_twt\",\"4\":\"thamisoaress\",\"5\":\"doyinadeniyi2\",\"6\":\"wik_secher\",\"7\":\"tropicallzzdope\",\"8\":\"techpip\",\"9\":\"WaynesWorldAuto\",\"10\":\"FlexiOrb\",\"11\":\"botjahalit\",\"12\":\"lxxddxxk\",\"13\":\"cj_nickolas\",\"14\":\"PointsTrident\"},\"photo\":{\"0\":\"http:\\\\/\\\\/pbs.twimg.com\\\\/profile_images\\\\/3614672075\\\\/6355d3509b8f6fa94b2a9e5e05c99ab0_normal.jpeg\",\"1\":\"http:\\\\/\\\\/pbs.twimg.com\\\\/profile_images\\\\/948698715220410368\\\\/EkNILtvi_normal.jpg\",\"2\":\"http:\\\\/\\\\/pbs.twimg.com\\\\/profile_images\\\\/1190301889377820672\\\\/5k5RxJ2q_normal.jpg\",\"3\":\"http:\\\\/\\\\/pbs.twimg.com\\\\/profile_images\\\\/1196374122273464320\\\\/vKVn_Oh3_normal.jpg\",\"4\":\"http:\\\\/\\\\/pbs.twimg.com\\\\/profile_images\\\\/1177446309441064962\\\\/Lpv5pR0H_normal.jpg\",\"5\":\"http:\\\\/\\\\/pbs.twimg.com\\\\/profile_images\\\\/1002335724723568640\\\\/ZSjyYtJ2_normal.jpg\",\"6\":\"http:\\\\/\\\\/pbs.twimg.com\\\\/profile_images\\\\/1161741909649477634\\\\/jhBIepaP_normal.jpg\",\"7\":\"http:\\\\/\\\\/pbs.twimg.com\\\\/profile_images\\\\/1171916774415183877\\\\/I45pVqXH_normal.jpg\",\"8\":\"http:\\\\/\\\\/pbs.twimg.com\\\\/profile_images\\\\/1161465294302453760\\\\/7UopFRmo_normal.jpg\",\"9\":\"http:\\\\/\\\\/pbs.twimg.com\\\\/profile_images\\\\/1186577147575590912\\\\/2AZ082jg_normal.jpg\",\"10\":\"http:\\\\/\\\\/pbs.twimg.com\\\\/profile_images\\\\/1097779414929166336\\\\/dJkb10fu_normal.png\",\"11\":\"http:\\\\/\\\\/pbs.twimg.com\\\\/profile_images\\\\/1057183674406395904\\\\/MX8FwYTE_normal.jpg\",\"12\":\"http:\\\\/\\\\/pbs.twimg.com\\\\/profile_images\\\\/1191750425625542656\\\\/ntG0NvV__normal.jpg\",\"13\":\"http:\\\\/\\\\/pbs.twimg.com\\\\/profile_images\\\\/1151023566118244353\\\\/6mpPOivr_normal.jpg\",\"14\":\"http:\\\\/\\\\/pbs.twimg.com\\\\/profile_images\\\\/1170889413309718530\\\\/GNqeEd_A_normal.jpg\"}}'"
      ]
     },
     "execution_count": 28,
     "metadata": {},
     "output_type": "execute_result"
    }
   ],
   "source": [
    "#data.to_json()"
   ]
  },
  {
   "cell_type": "code",
   "execution_count": 32,
   "metadata": {},
   "outputs": [
    {
     "data": {
      "text/plain": [
       "{'2': {'0': 48,\n",
       "  '1': 5082528,\n",
       "  '2': 53,\n",
       "  '3': 146,\n",
       "  '4': 993,\n",
       "  '5': 343,\n",
       "  '6': 100,\n",
       "  '7': 30,\n",
       "  '8': 1738,\n",
       "  '9': 2876,\n",
       "  '10': 53,\n",
       "  '11': 144,\n",
       "  '12': 68,\n",
       "  '13': 263,\n",
       "  '14': 308},\n",
       " 'sentiment': {'0': 0,\n",
       "  '1': 0.15,\n",
       "  '2': 0,\n",
       "  '3': 0,\n",
       "  '4': 0,\n",
       "  '5': 0,\n",
       "  '6': 0,\n",
       "  '7': 0,\n",
       "  '8': 0,\n",
       "  '9': 0.0681818182,\n",
       "  '10': 0.1363636364,\n",
       "  '11': 0,\n",
       "  '12': 0,\n",
       "  '13': 0,\n",
       "  '14': 0},\n",
       " 'tweet': {'0': 'RT @elonmusk: Cybertruck pulls F-150 uphill https://t.co/OfaqUkrDI3',\n",
       "  '1': \"Elon Musk's Net Worth Falls $768 Million After Tesla Cybertruck Fiasco https://t.co/6sMKh6p2CR\",\n",
       "  '2': 'RT @elonmusk: Reason Cybertruck is so planar is that you can’t stamp ultra-hard 30X steel, because it breaks the stamping press',\n",
       "  '3': 'RT @elonmusk: Cybertruck pulls F-150 uphill https://t.co/OfaqUkrDI3',\n",
       "  '4': 'RT @elonmusk: Cybertruck pulls F-150 uphill https://t.co/OfaqUkrDI3',\n",
       "  '5': 'RT @elonmusk: Cybertruck pulls F-150 uphill https://t.co/OfaqUkrDI3',\n",
       "  '6': 'RT @elonmusk: Cybertruck pulls F-150 uphill https://t.co/OfaqUkrDI3',\n",
       "  '7': 'RT @elonmusk: Cybertruck pulls F-150 uphill https://t.co/OfaqUkrDI3',\n",
       "  '8': 'Elon Musk explains why Tesla’s Cybertruck windows smashed during presentation https://t.co/E0nk7TtQKA',\n",
       "  '9': '.\\nDAILY NEWS\\n\\nTESLA ➤ New Cybertruck revealed.\\n\\nThis is the all-new @Tesla #Cybertruck, an electric pickup that boa… https://t.co/hn5Iuv39KG',\n",
       "  '10': 'Have you seen the new Tesla Cybertruck? \\n\\nWatch this 5-minute video https://t.co/pIg6pcVBdF\\n\\n@Tesla #cybertruck #cybrtrk #ev',\n",
       "  '11': 'RT @elonmusk: Cybertruck pulls F-150 uphill https://t.co/OfaqUkrDI3',\n",
       "  '12': 'RT @VICE_ID: Kami menduga, mobil secanggih cybertruck sekalipun ujung-ujungnya berubah jadi \"mobil goyang\" kalau yang pakai miliarder playb…',\n",
       "  '13': 'RT @elonmusk: Cybertruck pulls F-150 uphill https://t.co/OfaqUkrDI3',\n",
       "  '14': 'RT @elonmusk: Cybertruck pulls F-150 uphill https://t.co/OfaqUkrDI3'},\n",
       " 'location': {'0': 'Adelaide',\n",
       "  '1': 'Los Angeles, CA',\n",
       "  '2': 'Berlin, Germany',\n",
       "  '3': '대한민국 목포시',\n",
       "  '4': 'São Paulo, Brasil',\n",
       "  '5': 'Earth bound ',\n",
       "  '6': 'London, England',\n",
       "  '7': 'Санкт-Петербург, Россия',\n",
       "  '8': 'WorldWide',\n",
       "  '9': 'Coastal Hampshire, England.',\n",
       "  '10': 'United Kingdom',\n",
       "  '11': '+62',\n",
       "  '12': 'Mars',\n",
       "  '13': 'Brentwood, CA',\n",
       "  '14': 'FL, USA'},\n",
       " 'username': {'0': 'TheTonyHansen',\n",
       "  '1': 'TMZ',\n",
       "  '2': 'NPtrckTrstn',\n",
       "  '3': 'nazz_twt',\n",
       "  '4': 'thamisoaress',\n",
       "  '5': 'doyinadeniyi2',\n",
       "  '6': 'wik_secher',\n",
       "  '7': 'tropicallzzdope',\n",
       "  '8': 'techpip',\n",
       "  '9': 'WaynesWorldAuto',\n",
       "  '10': 'FlexiOrb',\n",
       "  '11': 'botjahalit',\n",
       "  '12': 'lxxddxxk',\n",
       "  '13': 'cj_nickolas',\n",
       "  '14': 'PointsTrident'},\n",
       " 'photo': {'0': 'http://pbs.twimg.com/profile_images/3614672075/6355d3509b8f6fa94b2a9e5e05c99ab0_normal.jpeg',\n",
       "  '1': 'http://pbs.twimg.com/profile_images/948698715220410368/EkNILtvi_normal.jpg',\n",
       "  '2': 'http://pbs.twimg.com/profile_images/1190301889377820672/5k5RxJ2q_normal.jpg',\n",
       "  '3': 'http://pbs.twimg.com/profile_images/1196374122273464320/vKVn_Oh3_normal.jpg',\n",
       "  '4': 'http://pbs.twimg.com/profile_images/1177446309441064962/Lpv5pR0H_normal.jpg',\n",
       "  '5': 'http://pbs.twimg.com/profile_images/1002335724723568640/ZSjyYtJ2_normal.jpg',\n",
       "  '6': 'http://pbs.twimg.com/profile_images/1161741909649477634/jhBIepaP_normal.jpg',\n",
       "  '7': 'http://pbs.twimg.com/profile_images/1171916774415183877/I45pVqXH_normal.jpg',\n",
       "  '8': 'http://pbs.twimg.com/profile_images/1161465294302453760/7UopFRmo_normal.jpg',\n",
       "  '9': 'http://pbs.twimg.com/profile_images/1186577147575590912/2AZ082jg_normal.jpg',\n",
       "  '10': 'http://pbs.twimg.com/profile_images/1097779414929166336/dJkb10fu_normal.png',\n",
       "  '11': 'http://pbs.twimg.com/profile_images/1057183674406395904/MX8FwYTE_normal.jpg',\n",
       "  '12': 'http://pbs.twimg.com/profile_images/1191750425625542656/ntG0NvV__normal.jpg',\n",
       "  '13': 'http://pbs.twimg.com/profile_images/1151023566118244353/6mpPOivr_normal.jpg',\n",
       "  '14': 'http://pbs.twimg.com/profile_images/1170889413309718530/GNqeEd_A_normal.jpg'}}"
      ]
     },
     "execution_count": 32,
     "metadata": {},
     "output_type": "execute_result"
    }
   ],
   "source": [
    "response=>"
   ]
  },
  {
   "cell_type": "code",
   "execution_count": null,
   "metadata": {},
   "outputs": [],
   "source": []
  }
 ],
 "metadata": {
  "kernelspec": {
   "display_name": "Python 3",
   "language": "python",
   "name": "python3"
  },
  "language_info": {
   "codemirror_mode": {
    "name": "ipython",
    "version": 3
   },
   "file_extension": ".py",
   "mimetype": "text/x-python",
   "name": "python",
   "nbconvert_exporter": "python",
   "pygments_lexer": "ipython3",
   "version": "3.6.5"
  }
 },
 "nbformat": 4,
 "nbformat_minor": 2
}
